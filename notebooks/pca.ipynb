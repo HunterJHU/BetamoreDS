{
 "cells": [
  {
   "cell_type": "code",
   "execution_count": 1,
   "metadata": {
    "collapsed": false
   },
   "outputs": [
    {
     "data": {
      "text/html": [
       "<link rel=\"stylesheet\" href=\"static/hyrule.css\" type=\"text/css\">"
      ],
      "text/plain": [
       "<IPython.core.display.HTML object>"
      ]
     },
     "metadata": {},
     "output_type": "display_data"
    }
   ],
   "source": [
    "%%html\n",
    "<link rel=\"stylesheet\" href=\"static/hyrule.css\" type=\"text/css\">"
   ]
  },
  {
   "cell_type": "markdown",
   "metadata": {},
   "source": [
    "# Feature Selection and Feature Reduction"
   ]
  },
  {
   "cell_type": "markdown",
   "metadata": {},
   "source": [
    "## Objectives\n",
    "\n",
    "* Review core concepts around why when and how to select features\n",
    "* Using machine learning models to decide features to keep\n",
    "* How data transformations like PCA reduce your data but maintain variance"
   ]
  },
  {
   "cell_type": "markdown",
   "metadata": {},
   "source": [
    "## Class Notes\n",
    "\n",
    "We'll primarily be concerned with two sklearn modules today: \n",
    "\n",
    "* A deeper dive into [feature_selection](http://scikit-learn.org/stable/modules/classes.html#module-sklearn.feature_selection)\n",
    "* Exploring use cases for [dimensionality reduction](http://scikit-learn.org/stable/modules/classes.html#module-sklearn.decomposition)"
   ]
  },
  {
   "cell_type": "markdown",
   "metadata": {},
   "source": [
    "### What makes a good feature?\n",
    "\n",
    "In the effort of simplicity and generality, good, strong features can be described to have the following attributes:\n",
    "\n",
    "* **high variance**: a feature with only one value is significantly less useful than one with many values\n",
    "* **correlation**: a positive or negative relationship with a target variable; low correlation suggests a lack of that relationship. (Keep in mind that correlation doesn't always mean causation either)\n",
    "* **predictive power**: features with large coefficients and importances are great; features with close to 0 coefficients, not so great\n",
    "\n",
    "### What makes a good model?\n",
    "\n",
    "* **good features!**\n",
    "* and.... **simplicity**\n",
    "\n",
    "<img src='img/overfitting.png' />\n",
    "_while we haven't used polynomials, there's still a balance for our models between simplicity and feature dependence_\n",
    "\n",
    "#### Why?\n",
    "We should aim to keep our models as simple as possible in order to attribute the most gain.  \n",
    "Simple models are much easier to understand as well"
   ]
  },
  {
   "cell_type": "markdown",
   "metadata": {},
   "source": [
    "### How do we reduce the number of features in our data?\n",
    "\n",
    "There's a number of techniques available in sklearn that automate these processes for us:\n",
    "\n",
    "sklearn_helper | technique\n",
    "---------------|----------\n",
    "`VarianceThreshold` | Remove features with low variance, based on a tolerance level\n",
    "`SelectKBest` | Select the best group of correlated features using `feature_selection` tools. K (as usual) is something you search for and define.\n",
    "`L1 and Trees` | using fit_transform on any supervised learning algorithm that has it can drop features with low coefficients or importances.\n",
    "\n",
    "While SKlearn also has a `pipeline` module to _further_ automate this process for you, it is more recommended to explore the data first to get a sense of what you are working with. There's no magic button that says \"solve my problem,\" but if you are interested in automating a model fit (say, a nightly procedue on a deployed model with constantly updated data), then it might be something worth exploring. \n",
    "\n",
    "For each below we'll work through Iris and notice how it picks out the best features for us. We'll use iris because the data is well scaled (which otherwise requires finetuning) and relatively predictive (we know there are features more predictive than others).\n",
    "\n",
    "For each code sample below:\n",
    "\n",
    "1. Review what the code is doing. Consider opening up the help function or reading the documentation on sklearn.\n",
    "2. find the `.shape` of the new array returned and compare to the original dataset. What columns did it end up keeping, vs removing?\n",
    "3. Adjust the parameters. Do results change?\n",
    "4. ** \\* **These are all considered data preprocessing steps. In your final project, what and where might you consider adding one of these processes?"
   ]
  },
  {
   "cell_type": "code",
   "execution_count": 2,
   "metadata": {
    "collapsed": false
   },
   "outputs": [],
   "source": [
    "import pandas as pd\n",
    "def make_irisdf():\n",
    "    from sklearn.datasets import load_iris\n",
    "    from pandas import DataFrame\n",
    "    iris = load_iris()\n",
    "    df = DataFrame(iris.data, columns=iris.feature_names)\n",
    "    df['target'] = iris.target\n",
    "    return df\n",
    "\n",
    "iris = make_irisdf()"
   ]
  },
  {
   "cell_type": "code",
   "execution_count": 3,
   "metadata": {
    "collapsed": true
   },
   "outputs": [],
   "source": [
    "from sklearn import feature_selection"
   ]
  },
  {
   "cell_type": "markdown",
   "metadata": {},
   "source": [
    "#### `VarianceThreshold`\n",
    "\n",
    "Goals:\n",
    "\n",
    "1. What is variance?\n",
    "2. How does changing the threshold change the fit_transform?"
   ]
  },
  {
   "cell_type": "code",
   "execution_count": 4,
   "metadata": {
    "collapsed": false
   },
   "outputs": [
    {
     "name": "stdout",
     "output_type": "stream",
     "text": [
      "sepal length (cm)    0.685694\n",
      "sepal width (cm)     0.188004\n",
      "petal length (cm)    3.113179\n",
      "petal width (cm)     0.582414\n",
      "dtype: float64\n",
      "   sepal length (cm)  sepal width (cm)  petal length (cm)  petal width (cm)\n",
      "0                5.1               3.5                1.4               0.2\n",
      "1                4.9               3.0                1.4               0.2\n",
      "2                4.7               3.2                1.3               0.2\n",
      "3                4.6               3.1                1.5               0.2\n",
      "4                5.0               3.6                1.4               0.2\n",
      "[[ 5.1  1.4]\n",
      " [ 4.9  1.4]\n",
      " [ 4.7  1.3]\n",
      " [ 4.6  1.5]\n",
      " [ 5.   1.4]]\n"
     ]
    }
   ],
   "source": [
    "print iris.ix[:,:4].apply(lambda x: x.var())\n",
    "print iris.ix[:,:4].head()\n",
    "print feature_selection.VarianceThreshold(threshold=.6).fit_transform(iris.ix[:,:4])[:5]"
   ]
  },
  {
   "cell_type": "markdown",
   "metadata": {},
   "source": [
    "#### `SelectKBest`\n",
    "Goals:\n",
    "\n",
    "1. while f test and chi2 are different tests, are the results the same?\n",
    "2. How might you solve for k?"
   ]
  },
  {
   "cell_type": "markdown",
   "metadata": {},
   "source": [
    "_math sidebar:_\n",
    "\n",
    "$X^2 = \\dfrac{(O-E)^2}{E}$<br />\n",
    "O = observed frequencies<br />\n",
    "E = expected frequencies<br />"
   ]
  },
  {
   "cell_type": "code",
   "execution_count": 5,
   "metadata": {
    "collapsed": false
   },
   "outputs": [
    {
     "name": "stdout",
     "output_type": "stream",
     "text": [
      "   sepal length (cm)  sepal width (cm)  petal length (cm)  petal width (cm)\n",
      "0                5.1               3.5                1.4               0.2\n",
      "1                4.9               3.0                1.4               0.2\n",
      "2                4.7               3.2                1.3               0.2\n",
      "3                4.6               3.1                1.5               0.2\n",
      "4                5.0               3.6                1.4               0.2\n",
      "sepal length (cm)     119.264502\n",
      "sepal width (cm)       47.364461\n",
      "petal length (cm)    1179.034328\n",
      "petal width (cm)      959.324406\n",
      "dtype: float64\n",
      "[[ 5.1  1.4  0.2]\n",
      " [ 4.9  1.4  0.2]\n",
      " [ 4.7  1.3  0.2]\n",
      " [ 4.6  1.5  0.2]\n",
      " [ 5.   1.4  0.2]]\n",
      "sepal length (cm)     10.817821\n",
      "sepal width (cm)       3.594499\n",
      "petal length (cm)    116.169847\n",
      "petal width (cm)      67.244828\n",
      "dtype: float64\n",
      "[[ 5.1  1.4  0.2]\n",
      " [ 4.9  1.4  0.2]\n",
      " [ 4.7  1.3  0.2]\n",
      " [ 4.6  1.5  0.2]\n",
      " [ 5.   1.4  0.2]]\n"
     ]
    }
   ],
   "source": [
    "print iris.ix[:,:4].head()\n",
    "ftest = feature_selection.SelectKBest(score_func=feature_selection.f_classif, k=3)\n",
    "print pd.Series(ftest.fit(iris.ix[:,:4], iris['target']).scores_, index=iris.ix[:,:4].columns)\n",
    "print ftest.fit_transform(iris.ix[:,:4], iris['target'])[:5]\n",
    "\n",
    "chi = feature_selection.SelectKBest(score_func=feature_selection.chi2, k=3)\n",
    "print pd.Series(chi.fit(iris.ix[:,:4], iris['target']).scores_, index=iris.ix[:,:4].columns)\n",
    "print chi.fit_transform(iris.ix[:,:4], iris['target'])[:5]"
   ]
  },
  {
   "cell_type": "markdown",
   "metadata": {},
   "source": [
    "#### `LogisticRegression`\n",
    "Goals:\n",
    "\n",
    "1. How is L1 deciding to keep features?\n",
    "2. How does changing C change the fit_transform results?"
   ]
  },
  {
   "cell_type": "code",
   "execution_count": 6,
   "metadata": {
    "collapsed": false
   },
   "outputs": [
    {
     "name": "stdout",
     "output_type": "stream",
     "text": [
      "   sepal length (cm)  sepal width (cm)  petal length (cm)  petal width (cm)\n",
      "0                5.1               3.5                1.4               0.2\n",
      "1                4.9               3.0                1.4               0.2\n",
      "2                4.7               3.2                1.3               0.2\n",
      "3                4.6               3.1                1.5               0.2\n",
      "4                5.0               3.6                1.4               0.2\n",
      "   sepal length (cm)  sepal width (cm)  petal length (cm)  petal width (cm)\n",
      "0           0.000000          1.124342          -1.344433                 0\n",
      "1           0.000000         -0.386422           0.122768                 0\n",
      "2          -0.987901          0.000000           1.277067                 0\n",
      "[[ 3.5  1.4]\n",
      " [ 3.   1.4]\n",
      " [ 3.2  1.3]\n",
      " [ 3.1  1.5]\n",
      " [ 3.6  1.4]]\n"
     ]
    }
   ],
   "source": [
    "from sklearn import linear_model as lm\n",
    "clf = lm.LogisticRegression(penalty='L1', C=0.1)\n",
    "print iris.ix[:,:4].head()\n",
    "\n",
    "print pd.DataFrame(clf.fit(iris.ix[:,:4], iris['target']).coef_, columns=iris.ix[:,:4].columns)\n",
    "print clf.fit_transform(iris.ix[:,:4], iris['target'])[:5]"
   ]
  },
  {
   "cell_type": "markdown",
   "metadata": {},
   "source": [
    "#### `DecisionTreeClassifier`\n",
    "Goals:\n",
    "\n",
    "1. What is Gini Importance?\n",
    "2. How does fit_transform decide what features to keep?\n",
    "3. How does changing the tree depth (or other preprocessing tools) change the result?"
   ]
  },
  {
   "cell_type": "code",
   "execution_count": 7,
   "metadata": {
    "collapsed": false
   },
   "outputs": [
    {
     "name": "stdout",
     "output_type": "stream",
     "text": [
      "   sepal length (cm)  sepal width (cm)  petal length (cm)  petal width (cm)\n",
      "0                5.1               3.5                1.4               0.2\n",
      "1                4.9               3.0                1.4               0.2\n",
      "2                4.7               3.2                1.3               0.2\n",
      "3                4.6               3.1                1.5               0.2\n",
      "4                5.0               3.6                1.4               0.2\n",
      "sepal length (cm)    0.013514\n",
      "sepal width (cm)     0.000000\n",
      "petal length (cm)    0.558165\n",
      "petal width (cm)     0.428322\n",
      "dtype: float64\n",
      "[[ 0.2]\n",
      " [ 0.2]\n",
      " [ 0.2]\n",
      " [ 0.2]\n",
      " [ 0.2]]\n"
     ]
    }
   ],
   "source": [
    "from sklearn import tree\n",
    "clf = tree.DecisionTreeClassifier(max_depth=4)\n",
    "print iris.ix[:,:4].head()\n",
    "print pd.Series(clf.fit(iris.ix[:,:4], iris['target']).feature_importances_, index=iris.ix[:,:4].columns)\n",
    "print clf.fit_transform(iris.ix[:,:4], iris['target'])[:5]"
   ]
  },
  {
   "cell_type": "markdown",
   "metadata": {},
   "source": [
    "### What if we believe there are hidden features in our data?\n",
    "_I don't want to get rid of them!_\n",
    "\n",
    "Then Principal Component Analysis to the rescue!"
   ]
  },
  {
   "cell_type": "markdown",
   "metadata": {},
   "source": [
    "<!-- bah html coding! -->\n",
    "<h3> What is principal component analysis? </h3>\n",
    "<em>comparing how we measure residuals in regressions vs noise in pca</em>\n",
    "<div style='text-align: center; margin: auto;'>\n",
    "<img style='float: left;' src='img/ols.png' width='420' / >\n",
    "<img style='float: left;' src='img/pca.jpg' width='420'/ >\n",
    "</div>\n",
    "<br style='clear: both;'/>\n",
    "<div>\n",
    "    <div style='float: left;'>\n",
    "        <h3>Consider Broadway...</h3>\n",
    "        <p>Manhattan is built on a grid system, with the exception of a couple key points:</p>\n",
    "        <ul>\n",
    "            <li>West Village (that's its own story)</li>\n",
    "            <li>Broadway</li>\n",
    "        </ul>\n",
    "        <p>If we needed to get from Harold Square to Eataly, what is easier to explain?</p>\n",
    "        <ol>\n",
    "            <li>Walk down 6th avenue until 24th street and then walk east until the park</li>\n",
    "            <li>Walk down Broadway until you get to Eataly at 24th</li>\n",
    "        </ol>\n",
    "        <p>Why is that one easier to explain?</p>\n",
    "    </div>\n",
    "    <div style='float: left;'>\n",
    "        <img src='img/flatiron.png' width='310' />\n",
    "    </div>\n",
    "</div>\n",
    "<br style='clear: both;'/>"
   ]
  },
  {
   "cell_type": "markdown",
   "metadata": {},
   "source": [
    "### When should we use it?\n",
    "PCA is a common technique already used in your day to day:\n",
    "\n",
    "* compressing images or files\n",
    "* Want to reduce computational expense\n",
    "* Recognition (signal processing, speach, computer vision)\n",
    "* Bioinformatics (microarray analysis)"
   ]
  },
  {
   "cell_type": "markdown",
   "metadata": {},
   "source": [
    "<img src='img/pca_shakira.png' width='840' / >"
   ]
  },
  {
   "cell_type": "markdown",
   "metadata": {},
   "source": [
    "### How does it work?\n",
    "\n",
    "Recall that variance is a 1-dimensional metric describing the average distance from the mean. **Covariance** is a representation of variance with respect to other features.\n",
    "\n",
    "If variance is a summary of one metric, and a correlation matrix is a square (the relationships of features against each other), what is our expected shape of the covariance matrix?\n",
    "\n",
    "<img src='' />\n",
    "\n",
    "We can intrepret the covariance matrix as:\n",
    "\n",
    "* **diagonals**: the variance of given feature (the covariance of the feature compared to itself)\n",
    "* **off-diagonals**: the covariance between two given features\n",
    "\n",
    "Principal Component Analysis is, essentially, the _decomposition_ of the _covariance_ matrix. We are interested in finding the eigenvalues of a square matrix, which for our needs with PCA, represent the amount of variance explained in each principal component."
   ]
  },
  {
   "cell_type": "markdown",
   "metadata": {},
   "source": [
    "##### Technical Details: finding the decomposition of a square matrix\n",
    "_here be demons_\n",
    "\n",
    "Eigenvalues are defined as found so that:\n",
    "\n",
    "$Av = \\lambda v$\n",
    "\n",
    "where $A$ is the original square matrix, lambda $\\lambda$ is the _eigenvalue_ and $v$ is the _eigenvector_. \n",
    "\n",
    "We can rewrite this as:\n",
    "\n",
    "$(A - \\lambda I)v = 0$\n",
    "\n",
    "where I is the identity matrix of shape A.\n",
    "\n",
    "This then means, since we are finding a nonzero vector, that the determinant of $A - \\lambda I$ must be 0. This solves our _eigenvalues_.\n",
    "\n",
    "We can then find the eigenvectors given the shape A and determinants:\n",
    "\n",
    "$\\begin{bmatrix} a & b - \\lambda \\\\ c - \\lambda & d \\end{bmatrix} * v = 0$\n",
    "\n",
    "applying each _eigenvalue_ will find your _eigenvectors_."
   ]
  },
  {
   "cell_type": "markdown",
   "metadata": {},
   "source": [
    "#### Back to explaining Variance\n",
    "\n",
    "So if the eigenvalues from the covariance matrix represent some value of how much variance each component explains (and in order from most to least)... how do we decide how much to keep?\n",
    "\n",
    "What does this remind us of?"
   ]
  },
  {
   "cell_type": "markdown",
   "metadata": {},
   "source": [
    "#### Examples\n",
    "\n",
    "Let's walk through a few examples of decomposition with random data. We'll start with data where we expect the covariance values to be the same as the variance of each feature. "
   ]
  },
  {
   "cell_type": "code",
   "execution_count": 8,
   "metadata": {
    "collapsed": false
   },
   "outputs": [
    {
     "name": "stdout",
     "output_type": "stream",
     "text": [
      "[[ 6.66666667  6.66666667  6.66666667]\n",
      " [ 6.66666667  6.66666667  6.66666667]\n",
      " [ 6.66666667  6.66666667  6.66666667]]\n",
      "6.66666666667\n"
     ]
    }
   ],
   "source": [
    "%matplotlib inline\n",
    "import matplotlib.pyplot as plt\n",
    "import pandas as pd\n",
    "import numpy as np\n",
    "random_data = pd.DataFrame({\n",
    "        'x': range(1, 10),\n",
    "        'y': range(1, 10),\n",
    "        'z': range(1, 10),\n",
    "    })\n",
    "print np.cov(random_data.T, bias=1)\n",
    "\n",
    "print np.var(random_data.x.T)"
   ]
  },
  {
   "cell_type": "markdown",
   "metadata": {},
   "source": [
    "Next, we want to pull out the eigenvalues and eigenvectors:"
   ]
  },
  {
   "cell_type": "code",
   "execution_count": 9,
   "metadata": {
    "collapsed": false
   },
   "outputs": [
    {
     "name": "stdout",
     "output_type": "stream",
     "text": [
      "[  1.77635684e-15   2.00000000e+01   0.00000000e+00]\n",
      "[[-0.81649658  0.57735027  0.        ]\n",
      " [ 0.40824829  0.57735027 -0.70710678]\n",
      " [ 0.40824829  0.57735027  0.70710678]]\n"
     ]
    }
   ],
   "source": [
    "eig, Q = np.linalg.eig(np.cov(random_data.T, bias=1))\n",
    "# sort for largest eigenvalue\n",
    "print eig\n",
    "print Q"
   ]
  },
  {
   "cell_type": "markdown",
   "metadata": {},
   "source": [
    "#### How do we evaluate the performance of it?\n",
    "\n",
    "1. **It's linear.**\n",
    "2. Principal Components are sorted from most explanatory to least explanatory\n",
    "3. We want to maximize the variance explained, and cut off the least informative part\n",
    "4. What did we learn about that would help solve for this?"
   ]
  },
  {
   "cell_type": "code",
   "execution_count": 10,
   "metadata": {
    "collapsed": false
   },
   "outputs": [
    {
     "data": {
      "image/png": "[encoded data removed]",
      "text/plain": [
       "<matplotlib.figure.Figure at 0x1095aa5d0>"
      ]
     },
     "metadata": {},
     "output_type": "display_data"
    }
   ],
   "source": [
    "import seaborn as sns\n",
    "from __future__ import division\n",
    "eigsort = np.sort(eig)[::-1]\n",
    "sns.set_style('white')\n",
    "plt.figure()\n",
    "plt.plot(range(1, len(eigsort) + 1), eigsort)\n",
    "plt.xlabel('principal component')\n",
    "plt.ylabel('explained variances')\n",
    "plt.show()"
   ]
  },
  {
   "cell_type": "code",
   "execution_count": 11,
   "metadata": {
    "collapsed": false
   },
   "outputs": [
    {
     "data": {
      "image/png": "[encoded data removed]",
      "text/plain": [
       "<matplotlib.figure.Figure at 0x10867e6d0>"
      ]
     },
     "metadata": {},
     "output_type": "display_data"
    }
   ],
   "source": [
    "plt.figure()\n",
    "plt.plot(range(1, len(eigsort) + 1), eigsort / sum(eigsort))\n",
    "plt.xlabel('principal component')\n",
    "plt.ylabel('% explained variance')\n",
    "plt.show()"
   ]
  },
  {
   "cell_type": "markdown",
   "metadata": {},
   "source": [
    "As we'd expect with the same data: PC1 will explain **all** of the variance in this data set, since all other features are literally the same. But what does this feature look like?"
   ]
  },
  {
   "cell_type": "code",
   "execution_count": 12,
   "metadata": {
    "collapsed": false
   },
   "outputs": [
    {
     "name": "stdout",
     "output_type": "stream",
     "text": [
      "[  1.73205081   3.46410162   5.19615242   6.92820323   8.66025404\n",
      "  10.39230485  12.12435565  13.85640646  15.58845727]\n"
     ]
    }
   ],
   "source": [
    "# ordering eigenvalues and vectors together\n",
    "ordered = sorted(zip(eig, Q.T), reverse=True)\n",
    "eig = np.array([_[0] for _ in ordered])\n",
    "Q = np.column_stack((_[1] for _ in ordered))\n",
    "\n",
    "# transforming data: We take the dot multiplication of the eigenvectors by the random data\n",
    "X_transformed = np.dot(Q.T, random_data.T)\n",
    "print X_transformed[0]"
   ]
  },
  {
   "cell_type": "code",
   "execution_count": 13,
   "metadata": {
    "collapsed": false,
    "scrolled": true
   },
   "outputs": [
    {
     "data": {
      "text/plain": [
       "[<matplotlib.lines.Line2D at 0x10a915890>]"
      ]
     },
     "execution_count": 13,
     "metadata": {},
     "output_type": "execute_result"
    },
    {
     "data": {
      "image/png": "[encoded data removed]",
      "text/plain": [
       "<matplotlib.figure.Figure at 0x109d7f610>"
      ]
     },
     "metadata": {},
     "output_type": "display_data"
    }
   ],
   "source": [
    "plt.figure()\n",
    "plt.plot(random_data.y, random_data.x, '.')"
   ]
  },
  {
   "cell_type": "code",
   "execution_count": 14,
   "metadata": {
    "collapsed": false
   },
   "outputs": [
    {
     "data": {
      "text/plain": [
       "[<matplotlib.lines.Line2D at 0x10aa7b690>]"
      ]
     },
     "execution_count": 14,
     "metadata": {},
     "output_type": "execute_result"
    },
    {
     "data": {
      "image/png": "[encoded data removed]",
      "text/plain": [
       "<matplotlib.figure.Figure at 0x10a937510>"
      ]
     },
     "metadata": {},
     "output_type": "display_data"
    }
   ],
   "source": [
    "plt.figure()\n",
    "plt.plot(X_transformed[0], '.')"
   ]
  },
  {
   "cell_type": "markdown",
   "metadata": {},
   "source": [
    "And for sanity, let's compare our PC1 vs what sklearn would spit out."
   ]
  },
  {
   "cell_type": "code",
   "execution_count": 15,
   "metadata": {
    "collapsed": false
   },
   "outputs": [
    {
     "data": {
      "text/plain": [
       "[<matplotlib.lines.Line2D at 0x10ad3e790>]"
      ]
     },
     "execution_count": 15,
     "metadata": {},
     "output_type": "execute_result"
    },
    {
     "data": {
      "image/png": "[encoded data removed]",
      "text/plain": [
       "<matplotlib.figure.Figure at 0x10aa9e290>"
      ]
     },
     "metadata": {},
     "output_type": "display_data"
    }
   ],
   "source": [
    "from sklearn import decomposition\n",
    "plt.plot(decomposition.PCA().fit_transform(random_data).T[0], '.')"
   ]
  },
  {
   "cell_type": "markdown",
   "metadata": {},
   "source": [
    "#### How do we explain it?\n",
    "\n",
    "1. This isn't \"made up data.\" We're using your original features to help explain the relationships.\n",
    "2. Our shape is different because this is a _linear projection_ of our original data. It represents the same information, but is displayed differently.\n",
    "3. Instead of using rules, we can use something else to explain relationships: correlations with the dependent variable.\n",
    "4. Did we have features that were highly correlated? This may help us understand where our explained variances comes from.\n",
    "5. The order of principal components is also related to the order of explained covariance; Therefore, PC1 would likely mostly be related to the features mostly correlated."
   ]
  },
  {
   "cell_type": "markdown",
   "metadata": {},
   "source": [
    "### Practice it!\n",
    "\n",
    "What happens when we start introducing noise into our data? Run PCA on our new dataset below and evaluate what changes:"
   ]
  },
  {
   "cell_type": "code",
   "execution_count": 16,
   "metadata": {
    "collapsed": false
   },
   "outputs": [
    {
     "name": "stdout",
     "output_type": "stream",
     "text": [
      "   x          y          z\n",
      "0  1  -1.878842   6.794887\n",
      "1  2  -8.625472  44.035247\n",
      "2  3  26.777612  12.021532\n",
      "3  4   6.347470  -4.309537\n",
      "4  5  11.734814   5.665158\n"
     ]
    },
    {
     "data": {
      "text/plain": [
       "[<matplotlib.lines.Line2D at 0x10aeba450>]"
      ]
     },
     "execution_count": 16,
     "metadata": {},
     "output_type": "execute_result"
    },
    {
     "data": {
      "image/png": "[encoded data removed]",
      "text/plain": [
       "<matplotlib.figure.Figure at 0x10ac0fc10>"
      ]
     },
     "metadata": {},
     "output_type": "display_data"
    }
   ],
   "source": [
    "random_data_scattered = pd.DataFrame({\n",
    "        'x': range(1, 100),\n",
    "        'y': range(1, 100),\n",
    "        'z': range(1, 100),\n",
    "    })\n",
    "\n",
    "random_data_scattered['y'] = random_data_scattered.y.apply(lambda y: y + np.random.normal(scale=10))\n",
    "random_data_scattered['z'] = random_data_scattered.z.apply(lambda z: z + np.random.normal(scale=20))\n",
    "\n",
    "print random_data_scattered.head()\n",
    "\n",
    "plt.plot(random_data_scattered.x, random_data_scattered.y, '.')"
   ]
  },
  {
   "cell_type": "markdown",
   "metadata": {},
   "source": [
    "1. Apply PCA to the above data using the PCA() class.\n",
    "2. Evaluate the eigenvalues: how many principal components do we need?\n",
    "3. Which feature[s] do the principal component[s] we keep explain?\n",
    "4. Try:\n",
    "    * changing the scatter on y and z,\n",
    "    * adding more features with more scatter\n",
    "    * adding scatter to x\n",
    "    * with the iris data set:\n",
    "        1. how many principal components do we need in this real data application?\n",
    "        2. how do you \"name\" the new principal components? what do they explain?\n",
    "    * with your own data set (where would this make sense?)    "
   ]
  },
  {
   "cell_type": "markdown",
   "metadata": {},
   "source": [
    "#### What if we need a non linear solution?\n",
    "\n",
    "PCA also allows for kernels, like SVMS, because sometimes we are not looking for a linear solution. The strategy and technique is the same. There's a sample script saved as `scripts/kernel_pca.py`, feel free to run the code and experiment."
   ]
  },
  {
   "cell_type": "markdown",
   "metadata": {
    "collapsed": true
   },
   "source": [
    "## Review / Reading / Next Steps\n",
    "\n",
    "* If you're unsure what is so \"magical\" about solving for eigenvectors and values, this [khan academy](https://www.khanacademy.org/math/linear-algebra/alternate_bases/eigen_everything/v/linear-algebra-introduction-to-eigenvalues-and-eigenvectors) set of videos is very informative!\n",
    "* If you are looking for more detail, then [this paper](http://www.cs.otago.ac.nz/cosc453/student_tutorials/principal_components.pdf) with included matlab code covers PCA from a very approachable mathematical level.\n",
    "* Or if you prefer a slide deck, [this one](http://www.cabnr.unr.edu/Saito/classes/ers701/pca2.pdf) is also very informative\n",
    "* Another common technique is using singular value decomposition as the basis of principal component analysis.\n",
    "    * The [wikipedia article](http://en.wikipedia.org/wiki/Singular_value_decomposition), while mathy, is a good read. The math is also very much required.\n",
    "    * A further explanation on why SVD is the [sexiest matrix decomposition](http://www.quora.com/Why-is-SVD-considered-a-highlight-of-linear-algebra) (need we say more?)"
   ]
  }
 ],
 "metadata": {
  "kernelspec": {
   "display_name": "Python 2",
   "language": "python",
   "name": "python2"
  },
  "language_info": {
   "codemirror_mode": {
    "name": "ipython",
    "version": 2
   },
   "file_extension": ".py",
   "mimetype": "text/x-python",
   "name": "python",
   "nbconvert_exporter": "python",
   "pygments_lexer": "ipython2",
   "version": "2.7.9"
  }
 },
 "nbformat": 4,
 "nbformat_minor": 0
}
